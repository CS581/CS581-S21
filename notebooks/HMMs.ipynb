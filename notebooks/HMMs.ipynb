{
 "cells": [
  {
   "cell_type": "code",
   "execution_count": 1,
   "id": "unauthorized-eleven",
   "metadata": {},
   "outputs": [],
   "source": [
    "import numpy as np"
   ]
  },
  {
   "cell_type": "code",
   "execution_count": 2,
   "id": "agricultural-lawsuit",
   "metadata": {},
   "outputs": [],
   "source": [
    "# prior P([0, 1])\n",
    "P = np.asarray([0.4, 0.6])\n",
    "# transition P(X_t|X_(t_1))\n",
    "Q = np.asarray([[0.9, 0.1], [0.2, 0.8]])\n",
    "# observation P(O_t|X_t)\n",
    "O = np.asarray([[0.6, 0.4], [0.3, 0.7]])"
   ]
  },
  {
   "cell_type": "code",
   "execution_count": 3,
   "id": "magnetic-destruction",
   "metadata": {},
   "outputs": [],
   "source": [
    "def filter_prob(pfp, Q, O, o):\n",
    "    s = O[:,o]*(Q[0]*pfp[0] + Q[1]*pfp[1])\n",
    "    return s/s.sum()"
   ]
  },
  {
   "cell_type": "code",
   "execution_count": 4,
   "id": "thorough-fancy",
   "metadata": {},
   "outputs": [],
   "source": [
    "def forward_message(pm, Q, O, o):\n",
    "    m = O[:, o]*(Q[0]*pm[0] + Q[1]*pm[1])\n",
    "    return m"
   ]
  },
  {
   "cell_type": "code",
   "execution_count": 5,
   "id": "nutritional-hearts",
   "metadata": {},
   "outputs": [],
   "source": [
    "p0 = P"
   ]
  },
  {
   "cell_type": "code",
   "execution_count": 6,
   "id": "pleasant-reset",
   "metadata": {},
   "outputs": [
    {
     "data": {
      "text/plain": [
       "array([0.4, 0.6])"
      ]
     },
     "execution_count": 6,
     "metadata": {},
     "output_type": "execute_result"
    }
   ],
   "source": [
    "p0"
   ]
  },
  {
   "cell_type": "code",
   "execution_count": 7,
   "id": "efficient-accreditation",
   "metadata": {},
   "outputs": [
    {
     "data": {
      "text/plain": [
       "array([0.34532374, 0.65467626])"
      ]
     },
     "execution_count": 7,
     "metadata": {},
     "output_type": "execute_result"
    }
   ],
   "source": [
    "# day 1, observation = 1\n",
    "o = 1\n",
    "p1 = filter_prob(p0, Q, O, o)\n",
    "p1"
   ]
  },
  {
   "cell_type": "code",
   "execution_count": 8,
   "id": "unusual-acceptance",
   "metadata": {},
   "outputs": [
    {
     "data": {
      "text/plain": [
       "array([0.34532374, 0.65467626])"
      ]
     },
     "execution_count": 8,
     "metadata": {},
     "output_type": "execute_result"
    }
   ],
   "source": [
    "np.asarray([48, 91])/(48+91)"
   ]
  },
  {
   "cell_type": "code",
   "execution_count": 9,
   "id": "careful-shame",
   "metadata": {},
   "outputs": [
    {
     "data": {
      "text/plain": [
       "array([0.31135903, 0.68864097])"
      ]
     },
     "execution_count": 9,
     "metadata": {},
     "output_type": "execute_result"
    }
   ],
   "source": [
    "# day 2, observation = 1\n",
    "o = 1\n",
    "p2 = filter_prob(p1, Q, O, o)\n",
    "p2"
   ]
  },
  {
   "cell_type": "code",
   "execution_count": 11,
   "id": "several-commodity",
   "metadata": {},
   "outputs": [
    {
     "data": {
      "text/plain": [
       "array([0.31135903, 0.68864097])"
      ]
     },
     "execution_count": 11,
     "metadata": {},
     "output_type": "execute_result"
    }
   ],
   "source": [
    "np.asarray([307, 679])/(307+679)"
   ]
  },
  {
   "cell_type": "code",
   "execution_count": 12,
   "id": "aggregate-poultry",
   "metadata": {},
   "outputs": [
    {
     "data": {
      "text/plain": [
       "array([0.58951434, 0.41048566])"
      ]
     },
     "execution_count": 12,
     "metadata": {},
     "output_type": "execute_result"
    }
   ],
   "source": [
    "# day 3, observation = 0\n",
    "o = 0\n",
    "p3 = filter_prob(p2, Q, O, o)\n",
    "p3"
   ]
  },
  {
   "cell_type": "code",
   "execution_count": 25,
   "id": "polyphonic-criticism",
   "metadata": {},
   "outputs": [
    {
     "data": {
      "text/plain": [
       "0.5895143408912095"
      ]
     },
     "execution_count": 25,
     "metadata": {},
     "output_type": "execute_result"
    }
   ],
   "source": [
    "8242/(8242+5739)"
   ]
  },
  {
   "cell_type": "code",
   "execution_count": 49,
   "id": "different-bradford",
   "metadata": {},
   "outputs": [
    {
     "name": "stdout",
     "output_type": "stream",
     "text": [
      "[0.4 0.6]\n",
      "1 [0.34532374 0.65467626]\n",
      "1 [0.31135903 0.68864097]\n",
      "0 [0.58951434 0.41048566]\n",
      "0 [0.75981301 0.24018699]\n"
     ]
    }
   ],
   "source": [
    "p = P\n",
    "print(p)\n",
    "observations=[1, 1, 0, 0]\n",
    "for o in observations:\n",
    "    p = filter_prob(p, Q, O, o)\n",
    "    print(o, p)"
   ]
  },
  {
   "cell_type": "code",
   "execution_count": 50,
   "id": "sixth-cambodia",
   "metadata": {},
   "outputs": [
    {
     "data": {
      "text/plain": [
       "0.7598130095003238"
      ]
     },
     "execution_count": 50,
     "metadata": {},
     "output_type": "execute_result"
    }
   ],
   "source": [
    "a=85656\n",
    "b=27077\n",
    "a/(a+b)"
   ]
  },
  {
   "cell_type": "code",
   "execution_count": 51,
   "id": "compatible-offense",
   "metadata": {},
   "outputs": [
    {
     "data": {
      "text/plain": [
       "[2, 3, 4, 6, 8, 12, 24, 43, 83, 86, 129, 166, 172, 249, 258]"
      ]
     },
     "execution_count": 51,
     "metadata": {},
     "output_type": "execute_result"
    }
   ],
   "source": [
    "n=a\n",
    "[ d for d in range(2,int(math.sqrt(n))) if n % d == 0 ]"
   ]
  },
  {
   "cell_type": "code",
   "execution_count": 52,
   "id": "distant-element",
   "metadata": {},
   "outputs": [
    {
     "data": {
      "text/plain": [
       "[]"
      ]
     },
     "execution_count": 52,
     "metadata": {},
     "output_type": "execute_result"
    }
   ],
   "source": [
    "n=b\n",
    "[ d for d in range(2,int(math.sqrt(n))) if n % d == 0 ]"
   ]
  },
  {
   "cell_type": "code",
   "execution_count": 53,
   "id": "asian-lecture",
   "metadata": {},
   "outputs": [],
   "source": [
    "def predict_prob(pfp, Q, future_steps):\n",
    "    p = pfp\n",
    "    for _ in range(future_steps):\n",
    "        p = (p[0]*Q[0] + p[1]*Q[1])\n",
    "        p = p/p.sum()\n",
    "    return p"
   ]
  },
  {
   "cell_type": "code",
   "execution_count": 54,
   "id": "referenced-intersection",
   "metadata": {},
   "outputs": [
    {
     "name": "stdout",
     "output_type": "stream",
     "text": [
      "[0.4 0.6]\n",
      "1 [0.34532374 0.65467626]\n",
      "1 [0.31135903 0.68864097]\n",
      "0 [0.58951434 0.41048566]\n",
      "0 [0.75981301 0.24018699]\n",
      "[0.73186911 0.26813089]\n"
     ]
    }
   ],
   "source": [
    "p = P\n",
    "print(p)\n",
    "observations=[1, 1, 0, 0]\n",
    "for o in observations:\n",
    "    p = filter_prob(p, Q, O, o)\n",
    "    print(o, p)\n",
    "\n",
    "p = predict_prob(p, Q, 1)\n",
    "print(p)"
   ]
  },
  {
   "cell_type": "code",
   "execution_count": 58,
   "id": "split-allah",
   "metadata": {},
   "outputs": [
    {
     "data": {
      "text/plain": [
       "0.7318691066502266"
      ]
     },
     "execution_count": 58,
     "metadata": {},
     "output_type": "execute_result"
    }
   ],
   "source": [
    "a=825058\n",
    "b=302272\n",
    "a/(a+b)"
   ]
  },
  {
   "cell_type": "code",
   "execution_count": 64,
   "id": "dependent-jamaica",
   "metadata": {},
   "outputs": [
    {
     "data": {
      "text/plain": [
       "0.26813089334977336"
      ]
     },
     "execution_count": 64,
     "metadata": {},
     "output_type": "execute_result"
    }
   ],
   "source": [
    "b/(a+b)"
   ]
  },
  {
   "cell_type": "code",
   "execution_count": 59,
   "id": "opposite-praise",
   "metadata": {},
   "outputs": [
    {
     "data": {
      "text/plain": [
       "[2, 13, 26, 169, 338]"
      ]
     },
     "execution_count": 59,
     "metadata": {},
     "output_type": "execute_result"
    }
   ],
   "source": [
    "n=a\n",
    "[ d for d in range(2,int(math.sqrt(n))) if n % d == 0 ]"
   ]
  },
  {
   "cell_type": "code",
   "execution_count": 60,
   "id": "competent-geography",
   "metadata": {},
   "outputs": [
    {
     "data": {
      "text/plain": [
       "[2, 4, 8, 16, 32, 64]"
      ]
     },
     "execution_count": 60,
     "metadata": {},
     "output_type": "execute_result"
    }
   ],
   "source": [
    "n=b\n",
    "[ d for d in range(2,int(math.sqrt(n))) if n % d == 0 ]"
   ]
  },
  {
   "cell_type": "code",
   "execution_count": 30,
   "id": "oriental-maximum",
   "metadata": {},
   "outputs": [
    {
     "name": "stdout",
     "output_type": "stream",
     "text": [
      "[0.4 0.6]\n",
      "1 [0.34532374 0.65467626]\n",
      "1 [0.31135903 0.68864097]\n",
      "0 [0.58951434 0.41048566]\n",
      "0 [0.75981301 0.24018699]\n",
      "[0.69861586 0.30138414]\n",
      "[0.67762524 0.32237476]\n",
      "[0.67042546 0.32957454]\n",
      "[0.66795593 0.33204407]\n",
      "[0.66710888 0.33289112]\n",
      "[0.66681835 0.33318165]\n",
      "[0.66671869 0.33328131]\n",
      "[0.66668451 0.33331549]\n",
      "[0.66667279 0.33332721]\n",
      "[0.66666877 0.33333123]\n",
      "[0.66666739 0.33333261]\n",
      "[0.66666691 0.33333309]\n",
      "[0.66666675 0.33333325]\n",
      "[0.6666667 0.3333333]\n",
      "[0.66666668 0.33333332]\n",
      "[0.66666667 0.33333333]\n",
      "[0.66666667 0.33333333]\n",
      "[0.66666667 0.33333333]\n",
      "[0.66666667 0.33333333]\n",
      "[0.66666667 0.33333333]\n"
     ]
    }
   ],
   "source": [
    "p = P\n",
    "print(p)\n",
    "observations=[1, 1, 0, 0]\n",
    "for o in observations:\n",
    "    p = filter_prob(p, Q, O, o)\n",
    "    print(o, p)\n",
    "\n",
    "for _ in range(20):\n",
    "    p = predict_prob(p, Q, 3)\n",
    "    print(p)"
   ]
  },
  {
   "cell_type": "code",
   "execution_count": 37,
   "id": "saved-surgery",
   "metadata": {},
   "outputs": [],
   "source": [
    "def backward_message(pbm, Q, O, o):\n",
    "    m = Q[:, 0]*O[0][o]*pbm[0] + Q[:, 1]*O[1][o]*pbm[1]\n",
    "    return m/m.sum()"
   ]
  },
  {
   "cell_type": "code",
   "execution_count": 38,
   "id": "spiritual-facility",
   "metadata": {},
   "outputs": [],
   "source": [
    "observations=[1, 1, 0, 0]\n",
    "fps = []\n",
    "bms = []\n",
    "\n",
    "p = P\n",
    "\n",
    "for o in observations:\n",
    "    p = filter_prob(p, Q, O, o)\n",
    "    fps.append(p)\n",
    "\n",
    "    \n",
    "m = [1, 1]\n",
    "bms.append(m)\n",
    "for o in observations[::-1]:\n",
    "    m = backward_message(m, Q, O, o)\n",
    "    bms.append(m)\n",
    "\n",
    "bms.reverse()\n",
    "\n",
    "sps = np.asarray(fps)*np.asarray(bms[1:])\n",
    "\n",
    "sps = sps / sps.sum(1).reshape(-1,1)"
   ]
  },
  {
   "cell_type": "code",
   "execution_count": 39,
   "id": "adequate-encyclopedia",
   "metadata": {},
   "outputs": [],
   "source": [
    "from pprint import pprint"
   ]
  },
  {
   "cell_type": "code",
   "execution_count": 40,
   "id": "curious-implement",
   "metadata": {},
   "outputs": [
    {
     "name": "stdout",
     "output_type": "stream",
     "text": [
      "[(1, array([0.34532374, 0.65467626])),\n",
      " (1, array([0.31135903, 0.68864097])),\n",
      " (0, array([0.58951434, 0.41048566])),\n",
      " (0, array([0.75981301, 0.24018699]))]\n"
     ]
    }
   ],
   "source": [
    "pprint(list(zip(observations, fps)))"
   ]
  },
  {
   "cell_type": "code",
   "execution_count": 41,
   "id": "uniform-saudi",
   "metadata": {},
   "outputs": [
    {
     "name": "stdout",
     "output_type": "stream",
     "text": [
      "[(1, array([0.37117792, 0.62882208])),\n",
      " (1, array([0.48201503, 0.51798497])),\n",
      " (0, array([0.69455262, 0.30544738])),\n",
      " (0, array([0.75981301, 0.24018699]))]\n"
     ]
    }
   ],
   "source": [
    "pprint(list(zip(observations, sps)))"
   ]
  },
  {
   "cell_type": "code",
   "execution_count": 48,
   "id": "crazy-shareware",
   "metadata": {},
   "outputs": [
    {
     "data": {
      "text/plain": [
       "0.6945526154719559"
      ]
     },
     "execution_count": 48,
     "metadata": {},
     "output_type": "execute_result"
    }
   ],
   "source": [
    "78299/(78299+34434)"
   ]
  },
  {
   "cell_type": "code",
   "execution_count": 71,
   "id": "hazardous-career",
   "metadata": {},
   "outputs": [],
   "source": [
    "m = np.matrix([[0.9, 0.2], [0.1, 0.8]])"
   ]
  },
  {
   "cell_type": "code",
   "execution_count": 72,
   "id": "annoying-detection",
   "metadata": {},
   "outputs": [
    {
     "data": {
      "text/plain": [
       "(array([1. , 0.7]),\n",
       " matrix([[ 0.89442719, -0.70710678],\n",
       "         [ 0.4472136 ,  0.70710678]]))"
      ]
     },
     "execution_count": 72,
     "metadata": {},
     "output_type": "execute_result"
    }
   ],
   "source": [
    "np.linalg.eig(m)"
   ]
  },
  {
   "cell_type": "code",
   "execution_count": 73,
   "id": "elementary-assembly",
   "metadata": {},
   "outputs": [
    {
     "data": {
      "text/plain": [
       "matrix([[0.9, 0.2],\n",
       "        [0.1, 0.8]])"
      ]
     },
     "execution_count": 73,
     "metadata": {},
     "output_type": "execute_result"
    }
   ],
   "source": [
    "m"
   ]
  },
  {
   "cell_type": "code",
   "execution_count": null,
   "id": "flush-appointment",
   "metadata": {},
   "outputs": [],
   "source": []
  }
 ],
 "metadata": {
  "kernelspec": {
   "display_name": "Python 3",
   "language": "python",
   "name": "python3"
  },
  "language_info": {
   "codemirror_mode": {
    "name": "ipython",
    "version": 3
   },
   "file_extension": ".py",
   "mimetype": "text/x-python",
   "name": "python",
   "nbconvert_exporter": "python",
   "pygments_lexer": "ipython3",
   "version": "3.8.5"
  }
 },
 "nbformat": 4,
 "nbformat_minor": 5
}
