{
 "cells": [
  {
   "cell_type": "code",
   "execution_count": 1,
   "id": "substantial-sociology",
   "metadata": {},
   "outputs": [],
   "source": [
    "from collections import Counter\n",
    "import numpy as np\n",
    "from pprint import pprint\n",
    "from sklearn.datasets import fetch_20newsgroups"
   ]
  },
  {
   "cell_type": "code",
   "execution_count": 2,
   "id": "overhead-confirmation",
   "metadata": {},
   "outputs": [],
   "source": [
    "cats = ['comp.os.ms-windows.misc', 'comp.sys.ibm.pc.hardware']"
   ]
  },
  {
   "cell_type": "code",
   "execution_count": 3,
   "id": "christian-border",
   "metadata": {},
   "outputs": [],
   "source": [
    "train_data = fetch_20newsgroups(subset='train', remove=('headers', 'footers', 'quotes'), categories=cats)"
   ]
  },
  {
   "cell_type": "code",
   "execution_count": 4,
   "id": "induced-freeware",
   "metadata": {},
   "outputs": [],
   "source": [
    "test_data = fetch_20newsgroups(subset='test', remove=('headers', 'footers', 'quotes'), categories=cats)"
   ]
  },
  {
   "cell_type": "code",
   "execution_count": 5,
   "id": "sexual-guest",
   "metadata": {},
   "outputs": [
    {
     "data": {
      "text/plain": [
       "dict_keys(['data', 'filenames', 'target_names', 'target', 'DESCR'])"
      ]
     },
     "execution_count": 5,
     "metadata": {},
     "output_type": "execute_result"
    }
   ],
   "source": [
    "train_data.keys()"
   ]
  },
  {
   "cell_type": "code",
   "execution_count": 6,
   "id": "greek-oakland",
   "metadata": {},
   "outputs": [
    {
     "data": {
      "text/plain": [
       "['comp.os.ms-windows.misc', 'comp.sys.ibm.pc.hardware']"
      ]
     },
     "execution_count": 6,
     "metadata": {},
     "output_type": "execute_result"
    }
   ],
   "source": [
    "train_data.target_names"
   ]
  },
  {
   "cell_type": "code",
   "execution_count": 7,
   "id": "arbitrary-harris",
   "metadata": {},
   "outputs": [
    {
     "name": "stdout",
     "output_type": "stream",
     "text": [
      "I am looking for a WIN31 driver (or set) for my Diamond \n",
      "Speedstar 1MB video card. Does anybody know of an archive\n",
      "site that has these? I looked at CICA and it had drivers for\n",
      "the Stealth card and for Generic ET4000 cards but not one \n",
      "specifically for the Speedstar. Is there one? Or has Diamond\n",
      "dropped the Speedstar out of the driver development loop.\n",
      "\n",
      "Thanks for any info,\n",
      "\n",
      "Rob\n",
      "-- \n"
     ]
    }
   ],
   "source": [
    "print(train_data.data[0])"
   ]
  },
  {
   "cell_type": "code",
   "execution_count": 114,
   "id": "virtual-prototype",
   "metadata": {},
   "outputs": [],
   "source": [
    "from sklearn.feature_extraction.text import CountVectorizer, TfidfVectorizer"
   ]
  },
  {
   "cell_type": "code",
   "execution_count": 115,
   "id": "electoral-traffic",
   "metadata": {},
   "outputs": [],
   "source": [
    "#vectorizer = CountVectorizer(min_df = 5, binary = True)\n",
    "vectorizer = TfidfVectorizer(min_df = 5)"
   ]
  },
  {
   "cell_type": "code",
   "execution_count": 116,
   "id": "boxed-remainder",
   "metadata": {},
   "outputs": [],
   "source": [
    "X_train = vectorizer.fit_transform(train_data.data)"
   ]
  },
  {
   "cell_type": "code",
   "execution_count": 117,
   "id": "armed-loading",
   "metadata": {},
   "outputs": [
    {
     "data": {
      "text/plain": [
       "(1181, 3409)"
      ]
     },
     "execution_count": 117,
     "metadata": {},
     "output_type": "execute_result"
    }
   ],
   "source": [
    "X_train.shape"
   ]
  },
  {
   "cell_type": "code",
   "execution_count": 118,
   "id": "lasting-cuisine",
   "metadata": {},
   "outputs": [
    {
     "data": {
      "text/plain": [
       "['00',\n",
       " '01',\n",
       " '02',\n",
       " '03',\n",
       " '04',\n",
       " '05',\n",
       " '06',\n",
       " '07',\n",
       " '08',\n",
       " '09',\n",
       " '0_',\n",
       " '0b',\n",
       " '0c',\n",
       " '0d',\n",
       " '0f',\n",
       " '0g',\n",
       " '0h',\n",
       " '0i',\n",
       " '0iv',\n",
       " '0j',\n",
       " '0k',\n",
       " '0l',\n",
       " '0m',\n",
       " '0m75u',\n",
       " '0p',\n",
       " '0q',\n",
       " '0qax',\n",
       " '0qq',\n",
       " '0r',\n",
       " '0s',\n",
       " '0t',\n",
       " '0tbxn',\n",
       " '0tbxom',\n",
       " '0tq',\n",
       " '0u',\n",
       " '0v',\n",
       " '0w',\n",
       " '0x',\n",
       " '10',\n",
       " '100',\n",
       " '1000',\n",
       " '1024',\n",
       " '1024x768',\n",
       " '1024x768x256',\n",
       " '10mb',\n",
       " '11',\n",
       " '12',\n",
       " '120',\n",
       " '120mb',\n",
       " '128',\n",
       " '1280',\n",
       " '1280x1024',\n",
       " '12mb',\n",
       " '13',\n",
       " '13p',\n",
       " '14',\n",
       " '140',\n",
       " '145',\n",
       " '146',\n",
       " '14di',\n",
       " '15',\n",
       " '1542b',\n",
       " '16',\n",
       " '1604s',\n",
       " '16450',\n",
       " '16550',\n",
       " '16m',\n",
       " '16mb',\n",
       " '17',\n",
       " '170',\n",
       " '18',\n",
       " '19',\n",
       " '199',\n",
       " '1990',\n",
       " '1992',\n",
       " '1993',\n",
       " '1_',\n",
       " '1a',\n",
       " '1c',\n",
       " '1d',\n",
       " '1d9',\n",
       " '1d9l',\n",
       " '1e',\n",
       " '1eq',\n",
       " '1eqtct',\n",
       " '1eqtm',\n",
       " '1f',\n",
       " '1f9',\n",
       " '1f9f8',\n",
       " '1f9f9f',\n",
       " '1fp',\n",
       " '1fp4',\n",
       " '1fp4u',\n",
       " '1fpl',\n",
       " '1g',\n",
       " '1h',\n",
       " '1j',\n",
       " '1k',\n",
       " '1l',\n",
       " '1m',\n",
       " '1mb',\n",
       " '1n',\n",
       " '1o',\n",
       " '1p',\n",
       " '1q',\n",
       " '1ri',\n",
       " '1s',\n",
       " '1st',\n",
       " '1t',\n",
       " '1t7',\n",
       " '1u',\n",
       " '1v',\n",
       " '1w',\n",
       " '1x',\n",
       " '1y',\n",
       " '1z4',\n",
       " '1z6e',\n",
       " '1z6ei',\n",
       " '1z6ei0l',\n",
       " '20',\n",
       " '200',\n",
       " '2000',\n",
       " '200mb',\n",
       " '2048',\n",
       " '20mb',\n",
       " '21',\n",
       " '210mb',\n",
       " '212',\n",
       " '22',\n",
       " '22di',\n",
       " '23',\n",
       " '24',\n",
       " '240',\n",
       " '2400',\n",
       " '24e',\n",
       " '24x',\n",
       " '25',\n",
       " '250',\n",
       " '256',\n",
       " '256k',\n",
       " '26',\n",
       " '27',\n",
       " '28',\n",
       " '286',\n",
       " '29',\n",
       " '2_',\n",
       " '2a',\n",
       " '2a42dubinski',\n",
       " '2b',\n",
       " '2c',\n",
       " '2d',\n",
       " '2de145',\n",
       " '2di',\n",
       " '2dm75u',\n",
       " '2e',\n",
       " '2f',\n",
       " '2g',\n",
       " '2j',\n",
       " '2k',\n",
       " '2l',\n",
       " '2lk',\n",
       " '2m',\n",
       " '2mb',\n",
       " '2n',\n",
       " '2nd',\n",
       " '2o',\n",
       " '2p',\n",
       " '2pu',\n",
       " '2q',\n",
       " '2s',\n",
       " '2t',\n",
       " '2tct',\n",
       " '2tcv9',\n",
       " '2tcv9f0',\n",
       " '2tg',\n",
       " '2tm',\n",
       " '2u',\n",
       " '2v',\n",
       " '2w',\n",
       " '2x',\n",
       " '2y',\n",
       " '2z',\n",
       " '30',\n",
       " '300',\n",
       " '31',\n",
       " '32',\n",
       " '32bit',\n",
       " '32m',\n",
       " '33',\n",
       " '33mhz',\n",
       " '33v',\n",
       " '34',\n",
       " '3401',\n",
       " '345',\n",
       " '34f',\n",
       " '34r',\n",
       " '34u',\n",
       " '35',\n",
       " '36',\n",
       " '37',\n",
       " '38',\n",
       " '386',\n",
       " '386dx',\n",
       " '386sx',\n",
       " '39',\n",
       " '3a',\n",
       " '3b',\n",
       " '3c',\n",
       " '3d',\n",
       " '3dy',\n",
       " '3e',\n",
       " '3h',\n",
       " '3i',\n",
       " '3j',\n",
       " '3k',\n",
       " '3l',\n",
       " '3m',\n",
       " '3mb',\n",
       " '3n',\n",
       " '3o',\n",
       " '3p',\n",
       " '3q',\n",
       " '3s',\n",
       " '3t',\n",
       " '3tc',\n",
       " '3u',\n",
       " '3v9',\n",
       " '3v9f0',\n",
       " '3v9f9d',\n",
       " '3v9f9f9',\n",
       " '3w',\n",
       " '3w2',\n",
       " '3w2tg',\n",
       " '3w2tm',\n",
       " '40',\n",
       " '400',\n",
       " '408',\n",
       " '40mb',\n",
       " '41',\n",
       " '42',\n",
       " '43',\n",
       " '44',\n",
       " '45',\n",
       " '45u',\n",
       " '46',\n",
       " '47',\n",
       " '48',\n",
       " '486',\n",
       " '486dx',\n",
       " '486dx2',\n",
       " '486dx33',\n",
       " '486sx',\n",
       " '49',\n",
       " '4a',\n",
       " '4c',\n",
       " '4e',\n",
       " '4i',\n",
       " '4j',\n",
       " '4k',\n",
       " '4l',\n",
       " '4m',\n",
       " '4mb',\n",
       " '4mn',\n",
       " '4o',\n",
       " '4p',\n",
       " '4r',\n",
       " '4s',\n",
       " '4t',\n",
       " '4tb',\n",
       " '4tbxom',\n",
       " '4u',\n",
       " '4v',\n",
       " '4z',\n",
       " '50',\n",
       " '500',\n",
       " '50mhz',\n",
       " '51',\n",
       " '518',\n",
       " '51s',\n",
       " '52',\n",
       " '54',\n",
       " '55',\n",
       " '56',\n",
       " '58',\n",
       " '59',\n",
       " '5a',\n",
       " '5c',\n",
       " '5d',\n",
       " '5e',\n",
       " '5f',\n",
       " '5fg',\n",
       " '5g',\n",
       " '5g9p',\n",
       " '5g9v',\n",
       " '5h',\n",
       " '5i',\n",
       " '5j',\n",
       " '5k',\n",
       " '5l',\n",
       " '5m',\n",
       " '5mb',\n",
       " '5o',\n",
       " '5p',\n",
       " '5s',\n",
       " '5t',\n",
       " '5u',\n",
       " '5w',\n",
       " '5x',\n",
       " '5z',\n",
       " '60',\n",
       " '600',\n",
       " '61',\n",
       " '617',\n",
       " '61d',\n",
       " '62',\n",
       " '625',\n",
       " '63',\n",
       " '64',\n",
       " '640x480',\n",
       " '64k',\n",
       " '65',\n",
       " '66',\n",
       " '66mhz',\n",
       " '67',\n",
       " '68',\n",
       " '6_',\n",
       " '6a',\n",
       " '6b',\n",
       " '6c',\n",
       " '6e',\n",
       " '6e1',\n",
       " '6e1t',\n",
       " '6ei',\n",
       " '6ei0l',\n",
       " '6ei4',\n",
       " '6ej',\n",
       " '6f',\n",
       " '6f1',\n",
       " '6g',\n",
       " '6h',\n",
       " '6i',\n",
       " '6j',\n",
       " '6k',\n",
       " '6l',\n",
       " '6m',\n",
       " '6mb',\n",
       " '6n',\n",
       " '6p',\n",
       " '6q',\n",
       " '6q04',\n",
       " '6s',\n",
       " '6t',\n",
       " '6u',\n",
       " '6ul4',\n",
       " '6um',\n",
       " '6un',\n",
       " '6v',\n",
       " '6w',\n",
       " '6x',\n",
       " '6y',\n",
       " '6z',\n",
       " '70',\n",
       " '71',\n",
       " '72',\n",
       " '73',\n",
       " '74',\n",
       " '745',\n",
       " '75',\n",
       " '750d',\n",
       " '75di',\n",
       " '75u',\n",
       " '75u4',\n",
       " '75u9',\n",
       " '75z',\n",
       " '76',\n",
       " '768',\n",
       " '77',\n",
       " '78',\n",
       " '79',\n",
       " '7_',\n",
       " '7a',\n",
       " '7b',\n",
       " '7d',\n",
       " '7e',\n",
       " '7ex',\n",
       " '7ey',\n",
       " '7ez',\n",
       " '7g',\n",
       " '7klj',\n",
       " '7kn',\n",
       " '7l',\n",
       " '7m',\n",
       " '7o',\n",
       " '7p',\n",
       " '7r',\n",
       " '7s',\n",
       " '7t',\n",
       " '7u',\n",
       " '7w',\n",
       " '7y',\n",
       " '7z',\n",
       " '80',\n",
       " '800',\n",
       " '800x600',\n",
       " '80mb',\n",
       " '81',\n",
       " '82',\n",
       " '8250',\n",
       " '83',\n",
       " '84',\n",
       " '85',\n",
       " '8514',\n",
       " '86',\n",
       " '86r',\n",
       " '87',\n",
       " '88',\n",
       " '89',\n",
       " '8900',\n",
       " '8900c',\n",
       " '89i',\n",
       " '8c',\n",
       " '8d',\n",
       " '8k',\n",
       " '8lt',\n",
       " '8ltq6',\n",
       " '8m',\n",
       " '8mb',\n",
       " '8n',\n",
       " '8o',\n",
       " '8om',\n",
       " '8p',\n",
       " '8r',\n",
       " '8s',\n",
       " '8v',\n",
       " '8w',\n",
       " '8x',\n",
       " '8y',\n",
       " '8z',\n",
       " '90',\n",
       " '9000',\n",
       " '91',\n",
       " '92',\n",
       " '93',\n",
       " '94',\n",
       " '95',\n",
       " '96',\n",
       " '9600',\n",
       " '965',\n",
       " '97',\n",
       " '98',\n",
       " '99',\n",
       " '99m',\n",
       " '9_',\n",
       " '9c',\n",
       " '9d',\n",
       " '9e',\n",
       " '9f',\n",
       " '9f0',\n",
       " '9f3t',\n",
       " '9f3w2',\n",
       " '9f8',\n",
       " '9f9',\n",
       " '9f9d',\n",
       " '9f9f',\n",
       " '9f9f0',\n",
       " '9f9f9',\n",
       " '9f9f9d',\n",
       " '9f9f9f',\n",
       " '9f9f9f9',\n",
       " '9f9f9f9f9f9',\n",
       " '9f9fq',\n",
       " '9g',\n",
       " '9h',\n",
       " '9i',\n",
       " '9j',\n",
       " '9j5',\n",
       " '9l',\n",
       " '9l0q',\n",
       " '9l0qax',\n",
       " '9l2',\n",
       " '9l3',\n",
       " '9m',\n",
       " '9p',\n",
       " '9s',\n",
       " '9u',\n",
       " '9v',\n",
       " '9x',\n",
       " '9z',\n",
       " '_5',\n",
       " '_6',\n",
       " '_7u',\n",
       " '_8',\n",
       " '_d',\n",
       " '_o',\n",
       " '_q',\n",
       " '_r',\n",
       " '_s',\n",
       " '_u',\n",
       " 'a000',\n",
       " 'a2',\n",
       " 'a4',\n",
       " 'a7',\n",
       " 'a8',\n",
       " 'a86',\n",
       " 'a865',\n",
       " 'a86r',\n",
       " 'a9',\n",
       " 'a945',\n",
       " 'a_',\n",
       " 'aa',\n",
       " 'ab',\n",
       " 'ability',\n",
       " 'able',\n",
       " 'about',\n",
       " 'above',\n",
       " 'absolutely',\n",
       " 'ac',\n",
       " 'accelerated',\n",
       " 'accelerator',\n",
       " 'accept',\n",
       " 'access',\n",
       " 'accessed',\n",
       " 'accessing',\n",
       " 'according',\n",
       " 'account',\n",
       " 'ack',\n",
       " 'across',\n",
       " 'act',\n",
       " 'active',\n",
       " 'actual',\n",
       " 'actually',\n",
       " 'ad',\n",
       " 'adaptec',\n",
       " 'adapter',\n",
       " 'adapters',\n",
       " 'add',\n",
       " 'added',\n",
       " 'adding',\n",
       " 'addition',\n",
       " 'additional',\n",
       " 'address',\n",
       " 'addresses',\n",
       " 'addressing',\n",
       " 'adjust',\n",
       " 'adobe',\n",
       " 'advance',\n",
       " 'advanced',\n",
       " 'advantage',\n",
       " 'advertised',\n",
       " 'advice',\n",
       " 'advise',\n",
       " 'af',\n",
       " 'afford',\n",
       " 'after',\n",
       " 'ag',\n",
       " 'again',\n",
       " 'ago',\n",
       " 'agree',\n",
       " 'ah',\n",
       " 'ai',\n",
       " 'air',\n",
       " 'aj',\n",
       " 'ak',\n",
       " 'al',\n",
       " 'aliases',\n",
       " 'all',\n",
       " 'allow',\n",
       " 'allowed',\n",
       " 'allows',\n",
       " 'almost',\n",
       " 'alone',\n",
       " 'along',\n",
       " 'alot',\n",
       " 'already',\n",
       " 'also',\n",
       " 'alt',\n",
       " 'alter',\n",
       " 'alternative',\n",
       " 'although',\n",
       " 'always',\n",
       " 'am',\n",
       " 'amd',\n",
       " 'ami',\n",
       " 'amiga',\n",
       " 'among',\n",
       " 'amount',\n",
       " 'an',\n",
       " 'and',\n",
       " 'andrew',\n",
       " 'animals',\n",
       " 'announce',\n",
       " 'annoying',\n",
       " 'anonymous',\n",
       " 'another',\n",
       " 'answer',\n",
       " 'answers',\n",
       " 'any',\n",
       " 'anybody',\n",
       " 'anyone',\n",
       " 'anything',\n",
       " 'anyway',\n",
       " 'anywhere',\n",
       " 'ao',\n",
       " 'ap',\n",
       " 'apart',\n",
       " 'api',\n",
       " 'app',\n",
       " 'apparently',\n",
       " 'appear',\n",
       " 'appears',\n",
       " 'apple',\n",
       " 'application',\n",
       " 'applications',\n",
       " 'apply',\n",
       " 'appreciate',\n",
       " 'appreciated',\n",
       " 'approach',\n",
       " 'appropriate',\n",
       " 'approx',\n",
       " 'apps',\n",
       " 'apr',\n",
       " 'april',\n",
       " 'aq',\n",
       " 'ar',\n",
       " 'archie',\n",
       " 'architecture',\n",
       " 'archive',\n",
       " 'are',\n",
       " 'area',\n",
       " 'aren',\n",
       " 'argument',\n",
       " 'around',\n",
       " 'art',\n",
       " 'article',\n",
       " 'articles',\n",
       " 'as',\n",
       " 'ascii',\n",
       " 'ashok',\n",
       " 'ask',\n",
       " 'asked',\n",
       " 'asking',\n",
       " 'assign',\n",
       " 'assume',\n",
       " 'assuming',\n",
       " 'asynchronous',\n",
       " 'at',\n",
       " 'ati',\n",
       " 'atm',\n",
       " 'attached',\n",
       " 'attempting',\n",
       " 'attempts',\n",
       " 'attention',\n",
       " 'au',\n",
       " 'audio',\n",
       " 'aug',\n",
       " 'australia',\n",
       " 'author',\n",
       " 'auto',\n",
       " 'autoexec',\n",
       " 'automatic',\n",
       " 'automatically',\n",
       " 'av',\n",
       " 'avail',\n",
       " 'availability',\n",
       " 'available',\n",
       " 'average',\n",
       " 'avoid',\n",
       " 'aw',\n",
       " 'aware',\n",
       " 'away',\n",
       " 'ax',\n",
       " 'ay',\n",
       " 'az',\n",
       " 'b0',\n",
       " 'b1',\n",
       " 'b2',\n",
       " 'b4',\n",
       " 'b4q',\n",
       " 'b5',\n",
       " 'b6',\n",
       " 'b8',\n",
       " 'b8e',\n",
       " 'b8f',\n",
       " 'b8g',\n",
       " 'b9',\n",
       " 'b_',\n",
       " 'back',\n",
       " 'background',\n",
       " 'backup',\n",
       " 'backups',\n",
       " 'bad',\n",
       " 'bandwidth',\n",
       " 'bank',\n",
       " 'banks',\n",
       " 'bar',\n",
       " 'base',\n",
       " 'based',\n",
       " 'basic',\n",
       " 'basically',\n",
       " 'basis',\n",
       " 'bat',\n",
       " 'batch',\n",
       " 'baud',\n",
       " 'bb',\n",
       " 'bbs',\n",
       " 'bc',\n",
       " 'bd',\n",
       " 'be',\n",
       " 'beast',\n",
       " 'because',\n",
       " 'become',\n",
       " 'becomes',\n",
       " 'been',\n",
       " 'before',\n",
       " 'beginning',\n",
       " 'behavior',\n",
       " 'behind',\n",
       " 'being',\n",
       " 'believe',\n",
       " 'below',\n",
       " 'benchmark',\n",
       " 'benchmarks',\n",
       " 'benefit',\n",
       " 'besides',\n",
       " 'best',\n",
       " 'bet',\n",
       " 'beta',\n",
       " 'better',\n",
       " 'between',\n",
       " 'beyond',\n",
       " 'bf',\n",
       " 'bg',\n",
       " 'bh',\n",
       " 'bhj',\n",
       " 'bhjn',\n",
       " 'bhjnux',\n",
       " 'bhjnuy',\n",
       " 'bi',\n",
       " 'big',\n",
       " 'bigger',\n",
       " 'bill',\n",
       " 'binary',\n",
       " 'bios',\n",
       " 'bit',\n",
       " 'bitmap',\n",
       " 'bits',\n",
       " 'biz',\n",
       " 'bizw',\n",
       " 'bizwt',\n",
       " 'bj',\n",
       " 'bk',\n",
       " 'bl',\n",
       " 'black',\n",
       " 'blank',\n",
       " 'blaster',\n",
       " 'block',\n",
       " 'blocks',\n",
       " 'blue',\n",
       " 'bm',\n",
       " 'bmp',\n",
       " 'bn',\n",
       " 'bnc',\n",
       " 'bnh',\n",
       " 'bo',\n",
       " 'board',\n",
       " 'boards',\n",
       " 'bob',\n",
       " 'book',\n",
       " 'books',\n",
       " 'boot',\n",
       " 'booted',\n",
       " 'booting',\n",
       " 'bootup',\n",
       " 'borland',\n",
       " 'both',\n",
       " 'bottleneck',\n",
       " 'bottom',\n",
       " 'bought',\n",
       " 'box',\n",
       " 'boxes',\n",
       " 'bp',\n",
       " 'bq',\n",
       " 'bql',\n",
       " 'br',\n",
       " 'brand',\n",
       " 'break',\n",
       " 'brian',\n",
       " 'brief',\n",
       " 'broken',\n",
       " 'bs',\n",
       " 'bs0t',\n",
       " 'bs0tq',\n",
       " 'bs3',\n",
       " 'bt',\n",
       " 'btw',\n",
       " 'bu',\n",
       " 'buffer',\n",
       " 'buffers',\n",
       " 'bug',\n",
       " 'bugs',\n",
       " 'build',\n",
       " 'building',\n",
       " 'built',\n",
       " 'bunch',\n",
       " 'burst',\n",
       " 'bus',\n",
       " 'business',\n",
       " 'busy',\n",
       " 'but',\n",
       " 'button',\n",
       " 'buttons',\n",
       " 'buy',\n",
       " 'buying',\n",
       " 'bv',\n",
       " 'bw',\n",
       " 'bx',\n",
       " 'bxlt',\n",
       " 'bxn',\n",
       " 'bxom',\n",
       " 'by',\n",
       " 'byte',\n",
       " 'bytes',\n",
       " 'bz',\n",
       " 'c0',\n",
       " 'c2',\n",
       " 'c4',\n",
       " 'c4u',\n",
       " 'c5',\n",
       " 'c7',\n",
       " 'c8',\n",
       " 'c8v',\n",
       " 'c9',\n",
       " 'ca',\n",
       " 'cable',\n",
       " 'cables',\n",
       " 'cache',\n",
       " 'caches',\n",
       " 'caching',\n",
       " 'call',\n",
       " 'called',\n",
       " 'calling',\n",
       " 'calls',\n",
       " 'came',\n",
       " 'can',\n",
       " 'cannot',\n",
       " 'canon',\n",
       " 'capabilities',\n",
       " 'capability',\n",
       " 'capable',\n",
       " 'capacity',\n",
       " 'card',\n",
       " 'cards',\n",
       " 'care',\n",
       " 'careful',\n",
       " 'carefully',\n",
       " 'case',\n",
       " 'cases',\n",
       " 'cash',\n",
       " 'cause',\n",
       " 'caused',\n",
       " 'causes',\n",
       " 'causing',\n",
       " 'cc',\n",
       " 'cd',\n",
       " 'cdrom',\n",
       " 'center',\n",
       " 'central',\n",
       " 'certain',\n",
       " 'certainly',\n",
       " 'cg',\n",
       " 'cga',\n",
       " 'ch',\n",
       " 'chance',\n",
       " 'change',\n",
       " 'changed',\n",
       " 'changes',\n",
       " 'changing',\n",
       " 'channel',\n",
       " 'char',\n",
       " 'character',\n",
       " 'characters',\n",
       " 'charge',\n",
       " 'cheap',\n",
       " 'cheaper',\n",
       " 'check',\n",
       " 'checked',\n",
       " 'checking',\n",
       " 'checks',\n",
       " 'cheers',\n",
       " 'chicago',\n",
       " 'chip',\n",
       " 'chips',\n",
       " 'chipset',\n",
       " 'choice',\n",
       " 'choices',\n",
       " 'choose',\n",
       " 'chris',\n",
       " 'chz',\n",
       " 'ci',\n",
       " 'cica',\n",
       " 'cii',\n",
       " 'circuit',\n",
       " 'cirrus',\n",
       " 'cis',\n",
       " 'cisc',\n",
       " 'cj',\n",
       " 'ck',\n",
       " 'cl',\n",
       " 'claim',\n",
       " 'claims',\n",
       " 'class',\n",
       " 'classes',\n",
       " 'clear',\n",
       " 'clearly',\n",
       " 'click',\n",
       " 'client',\n",
       " 'clock',\n",
       " 'clone',\n",
       " 'clones',\n",
       " 'close',\n",
       " 'closed',\n",
       " 'clue',\n",
       " 'cmos',\n",
       " 'cn',\n",
       " 'co',\n",
       " 'code',\n",
       " 'codes',\n",
       " 'collection',\n",
       " 'college',\n",
       " 'color',\n",
       " 'colorado',\n",
       " 'colors',\n",
       " 'colour',\n",
       " 'com',\n",
       " 'com1',\n",
       " 'com2',\n",
       " 'com3',\n",
       " 'com4',\n",
       " 'combination',\n",
       " 'combinations',\n",
       " 'come',\n",
       " 'comes',\n",
       " 'coming',\n",
       " 'comm',\n",
       " 'command',\n",
       " 'commands',\n",
       " 'comment',\n",
       " 'comments',\n",
       " 'commercial',\n",
       " 'common',\n",
       " 'communication',\n",
       " 'communications',\n",
       " 'comp',\n",
       " 'companies',\n",
       " 'company',\n",
       " 'compaq',\n",
       " 'comparable',\n",
       " 'compare',\n",
       " 'compared',\n",
       " 'comparison',\n",
       " 'compatibility',\n",
       " 'compatible',\n",
       " 'compile',\n",
       " 'compiler',\n",
       " 'complaints',\n",
       " 'complete',\n",
       " 'completely',\n",
       " 'complex',\n",
       " 'complicated',\n",
       " 'compress',\n",
       " 'compressed',\n",
       " 'compression',\n",
       " 'compuserve',\n",
       " 'computer',\n",
       " 'computers',\n",
       " 'computing',\n",
       " 'concerned',\n",
       " 'concerning',\n",
       " 'conclusion',\n",
       " 'condition',\n",
       " 'config',\n",
       " 'configuration',\n",
       " 'configurations',\n",
       " 'configure',\n",
       " 'configured',\n",
       " 'configuring',\n",
       " 'conflict',\n",
       " 'confused',\n",
       " 'connect',\n",
       " 'connected',\n",
       " 'connection',\n",
       " 'connections',\n",
       " 'connector',\n",
       " 'connectors',\n",
       " 'connects',\n",
       " 'conner',\n",
       " 'consider',\n",
       " 'considered',\n",
       " 'considering',\n",
       " 'contact',\n",
       " ...]"
      ]
     },
     "execution_count": 118,
     "metadata": {},
     "output_type": "execute_result"
    }
   ],
   "source": [
    "vectorizer.get_feature_names()"
   ]
  },
  {
   "cell_type": "code",
   "execution_count": 119,
   "id": "saved-condition",
   "metadata": {},
   "outputs": [],
   "source": [
    "y_train = train_data.target"
   ]
  },
  {
   "cell_type": "code",
   "execution_count": 120,
   "id": "blessed-relative",
   "metadata": {},
   "outputs": [],
   "source": [
    "X_test = vectorizer.transform(test_data.data)"
   ]
  },
  {
   "cell_type": "code",
   "execution_count": 121,
   "id": "hazardous-emission",
   "metadata": {},
   "outputs": [
    {
     "data": {
      "text/plain": [
       "(786, 3409)"
      ]
     },
     "execution_count": 121,
     "metadata": {},
     "output_type": "execute_result"
    }
   ],
   "source": [
    "X_test.shape"
   ]
  },
  {
   "cell_type": "code",
   "execution_count": 122,
   "id": "clean-platinum",
   "metadata": {},
   "outputs": [],
   "source": [
    "y_test = test_data.target"
   ]
  },
  {
   "cell_type": "code",
   "execution_count": 123,
   "id": "parallel-receptor",
   "metadata": {},
   "outputs": [],
   "source": [
    "from sklearn.naive_bayes import BernoulliNB"
   ]
  },
  {
   "cell_type": "code",
   "execution_count": 124,
   "id": "protected-batch",
   "metadata": {},
   "outputs": [],
   "source": [
    "bnb = BernoulliNB(alpha=1)"
   ]
  },
  {
   "cell_type": "code",
   "execution_count": 125,
   "id": "fitting-operations",
   "metadata": {},
   "outputs": [
    {
     "data": {
      "text/plain": [
       "BernoulliNB(alpha=1)"
      ]
     },
     "execution_count": 125,
     "metadata": {},
     "output_type": "execute_result"
    }
   ],
   "source": [
    "bnb.fit(X_train, y_train)"
   ]
  },
  {
   "cell_type": "code",
   "execution_count": 126,
   "id": "specified-denmark",
   "metadata": {},
   "outputs": [],
   "source": [
    "y_train_pred = bnb.predict(X_train)"
   ]
  },
  {
   "cell_type": "code",
   "execution_count": 127,
   "id": "reflected-thomson",
   "metadata": {},
   "outputs": [],
   "source": [
    "y_test_pred = bnb.predict(X_test)"
   ]
  },
  {
   "cell_type": "code",
   "execution_count": 128,
   "id": "requested-malpractice",
   "metadata": {},
   "outputs": [],
   "source": [
    "from sklearn.metrics import confusion_matrix, accuracy_score, \\\n",
    "                            precision_score, recall_score, f1_score, classification_report"
   ]
  },
  {
   "cell_type": "code",
   "execution_count": 129,
   "id": "published-spelling",
   "metadata": {},
   "outputs": [
    {
     "data": {
      "text/plain": [
       "array([0, 1], dtype=int64)"
      ]
     },
     "execution_count": 129,
     "metadata": {},
     "output_type": "execute_result"
    }
   ],
   "source": [
    "bnb.classes_"
   ]
  },
  {
   "cell_type": "code",
   "execution_count": 130,
   "id": "entire-spring",
   "metadata": {},
   "outputs": [
    {
     "data": {
      "text/plain": [
       "['comp.os.ms-windows.misc', 'comp.sys.ibm.pc.hardware']"
      ]
     },
     "execution_count": 130,
     "metadata": {},
     "output_type": "execute_result"
    }
   ],
   "source": [
    "train_data.target_names"
   ]
  },
  {
   "cell_type": "code",
   "execution_count": 131,
   "id": "judicial-weather",
   "metadata": {},
   "outputs": [
    {
     "data": {
      "text/plain": [
       "Counter({0: 591, 1: 590})"
      ]
     },
     "execution_count": 131,
     "metadata": {},
     "output_type": "execute_result"
    }
   ],
   "source": [
    "Counter(y_train)"
   ]
  },
  {
   "cell_type": "code",
   "execution_count": 132,
   "id": "immune-privacy",
   "metadata": {},
   "outputs": [
    {
     "data": {
      "text/plain": [
       "Counter({1: 957, 0: 224})"
      ]
     },
     "execution_count": 132,
     "metadata": {},
     "output_type": "execute_result"
    }
   ],
   "source": [
    "Counter(y_train_pred)"
   ]
  },
  {
   "cell_type": "code",
   "execution_count": 133,
   "id": "corrected-migration",
   "metadata": {},
   "outputs": [
    {
     "data": {
      "text/plain": [
       "array([[223, 368],\n",
       "       [  1, 589]], dtype=int64)"
      ]
     },
     "execution_count": 133,
     "metadata": {},
     "output_type": "execute_result"
    }
   ],
   "source": [
    "confusion_matrix(y_train, y_train_pred, labels=[0, 1])"
   ]
  },
  {
   "cell_type": "code",
   "execution_count": 134,
   "id": "distinguished-asbestos",
   "metadata": {},
   "outputs": [
    {
     "data": {
      "text/plain": [
       "Counter({1: 392, 0: 394})"
      ]
     },
     "execution_count": 134,
     "metadata": {},
     "output_type": "execute_result"
    }
   ],
   "source": [
    "Counter(y_test)"
   ]
  },
  {
   "cell_type": "code",
   "execution_count": 135,
   "id": "perceived-arrangement",
   "metadata": {},
   "outputs": [
    {
     "data": {
      "text/plain": [
       "Counter({1: 711, 0: 75})"
      ]
     },
     "execution_count": 135,
     "metadata": {},
     "output_type": "execute_result"
    }
   ],
   "source": [
    "Counter(y_test_pred)"
   ]
  },
  {
   "cell_type": "code",
   "execution_count": 136,
   "id": "empty-mercy",
   "metadata": {},
   "outputs": [
    {
     "data": {
      "text/plain": [
       "array([[ 73, 321],\n",
       "       [  2, 390]], dtype=int64)"
      ]
     },
     "execution_count": 136,
     "metadata": {},
     "output_type": "execute_result"
    }
   ],
   "source": [
    "confusion_matrix(y_test, y_test_pred, labels=[0, 1])"
   ]
  },
  {
   "cell_type": "code",
   "execution_count": 137,
   "id": "employed-darkness",
   "metadata": {},
   "outputs": [],
   "source": [
    "def print_metrics(y_a, y_p):\n",
    "    print(\"{:<20} {:.3f}\".format(\"Accuracy:\", accuracy_score(y_a, y_p)))\n",
    "    print(\"{:<20} {:.3f}\".format(\"Precision(0):\", precision_score(y_a, y_p, pos_label = 0)))\n",
    "    print(\"{:<20} {:.3f}\".format(\"Precision(1):\", precision_score(y_a, y_p, pos_label = 1)))\n",
    "    print(\"{:<20} {:.3f}\".format(\"Recall(0):\", recall_score(y_a, y_p, pos_label = 0)))\n",
    "    print(\"{:<20} {:.3f}\".format(\"Recall(1):\", recall_score(y_a, y_p, pos_label = 1)))\n",
    "    print(\"{:<20} {:.3f}\".format(\"F1(0):\", f1_score(y_a, y_p, pos_label = 0)))\n",
    "    print(\"{:<20} {:.3f}\".format(\"F1(1):\", f1_score(y_a, y_p, pos_label = 1)))"
   ]
  },
  {
   "cell_type": "code",
   "execution_count": 138,
   "id": "warming-basin",
   "metadata": {},
   "outputs": [
    {
     "name": "stdout",
     "output_type": "stream",
     "text": [
      "Accuracy:            0.688\n",
      "Precision(0):        0.996\n",
      "Precision(1):        0.615\n",
      "Recall(0):           0.377\n",
      "Recall(1):           0.998\n",
      "F1(0):               0.547\n",
      "F1(1):               0.761\n"
     ]
    }
   ],
   "source": [
    "print_metrics(y_train, y_train_pred)"
   ]
  },
  {
   "cell_type": "code",
   "execution_count": 139,
   "id": "amazing-orbit",
   "metadata": {},
   "outputs": [
    {
     "name": "stdout",
     "output_type": "stream",
     "text": [
      "              precision    recall  f1-score   support\n",
      "\n",
      "           0      0.996     0.377     0.547       591\n",
      "           1      0.615     0.998     0.761       590\n",
      "\n",
      "    accuracy                          0.688      1181\n",
      "   macro avg      0.806     0.688     0.654      1181\n",
      "weighted avg      0.806     0.688     0.654      1181\n",
      "\n"
     ]
    }
   ],
   "source": [
    "print(classification_report(y_train, y_train_pred, digits=3))"
   ]
  },
  {
   "cell_type": "code",
   "execution_count": 140,
   "id": "necessary-gender",
   "metadata": {},
   "outputs": [
    {
     "name": "stdout",
     "output_type": "stream",
     "text": [
      "Accuracy:            0.589\n",
      "Precision(0):        0.973\n",
      "Precision(1):        0.549\n",
      "Recall(0):           0.185\n",
      "Recall(1):           0.995\n",
      "F1(0):               0.311\n",
      "F1(1):               0.707\n"
     ]
    }
   ],
   "source": [
    "print_metrics(y_test, y_test_pred)"
   ]
  },
  {
   "cell_type": "code",
   "execution_count": 141,
   "id": "fresh-timer",
   "metadata": {},
   "outputs": [
    {
     "name": "stdout",
     "output_type": "stream",
     "text": [
      "              precision    recall  f1-score   support\n",
      "\n",
      "           0      0.973     0.185     0.311       394\n",
      "           1      0.549     0.995     0.707       392\n",
      "\n",
      "    accuracy                          0.589       786\n",
      "   macro avg      0.761     0.590     0.509       786\n",
      "weighted avg      0.761     0.589     0.509       786\n",
      "\n"
     ]
    }
   ],
   "source": [
    "print(classification_report(y_test, y_test_pred, digits=3))"
   ]
  },
  {
   "cell_type": "code",
   "execution_count": 142,
   "id": "marked-dodge",
   "metadata": {},
   "outputs": [],
   "source": [
    "from sklearn.naive_bayes import MultinomialNB"
   ]
  },
  {
   "cell_type": "code",
   "execution_count": 143,
   "id": "premium-grade",
   "metadata": {},
   "outputs": [],
   "source": [
    "mnb = MultinomialNB(alpha=1)"
   ]
  },
  {
   "cell_type": "code",
   "execution_count": 144,
   "id": "renewable-commonwealth",
   "metadata": {},
   "outputs": [
    {
     "data": {
      "text/plain": [
       "MultinomialNB(alpha=1)"
      ]
     },
     "execution_count": 144,
     "metadata": {},
     "output_type": "execute_result"
    }
   ],
   "source": [
    "mnb.fit(X_train, y_train)"
   ]
  },
  {
   "cell_type": "code",
   "execution_count": 145,
   "id": "every-jackson",
   "metadata": {},
   "outputs": [],
   "source": [
    "y_train_pred = mnb.predict(X_train)"
   ]
  },
  {
   "cell_type": "code",
   "execution_count": 146,
   "id": "affecting-plaintiff",
   "metadata": {},
   "outputs": [],
   "source": [
    "y_test_pred = mnb.predict(X_test)"
   ]
  },
  {
   "cell_type": "code",
   "execution_count": 147,
   "id": "third-private",
   "metadata": {},
   "outputs": [
    {
     "name": "stdout",
     "output_type": "stream",
     "text": [
      "Accuracy:            0.923\n",
      "Precision(0):        0.930\n",
      "Precision(1):        0.917\n",
      "Recall(0):           0.915\n",
      "Recall(1):           0.931\n",
      "F1(0):               0.922\n",
      "F1(1):               0.923\n"
     ]
    }
   ],
   "source": [
    "print_metrics(y_train, y_train_pred)"
   ]
  },
  {
   "cell_type": "code",
   "execution_count": 148,
   "id": "confidential-manual",
   "metadata": {},
   "outputs": [
    {
     "name": "stdout",
     "output_type": "stream",
     "text": [
      "              precision    recall  f1-score   support\n",
      "\n",
      "           0      0.930     0.915     0.922       591\n",
      "           1      0.917     0.931     0.923       590\n",
      "\n",
      "    accuracy                          0.923      1181\n",
      "   macro avg      0.923     0.923     0.923      1181\n",
      "weighted avg      0.923     0.923     0.923      1181\n",
      "\n"
     ]
    }
   ],
   "source": [
    "print(classification_report(y_train, y_train_pred, digits=3))"
   ]
  },
  {
   "cell_type": "code",
   "execution_count": 149,
   "id": "settled-embassy",
   "metadata": {},
   "outputs": [
    {
     "name": "stdout",
     "output_type": "stream",
     "text": [
      "Accuracy:            0.817\n",
      "Precision(0):        0.853\n",
      "Precision(1):        0.787\n",
      "Recall(0):           0.766\n",
      "Recall(1):           0.867\n",
      "F1(0):               0.807\n",
      "F1(1):               0.825\n"
     ]
    }
   ],
   "source": [
    "print_metrics(y_test, y_test_pred)"
   ]
  },
  {
   "cell_type": "code",
   "execution_count": 150,
   "id": "nearby-supplement",
   "metadata": {},
   "outputs": [
    {
     "name": "stdout",
     "output_type": "stream",
     "text": [
      "              precision    recall  f1-score   support\n",
      "\n",
      "           0      0.853     0.766     0.807       394\n",
      "           1      0.787     0.867     0.825       392\n",
      "\n",
      "    accuracy                          0.817       786\n",
      "   macro avg      0.820     0.817     0.816       786\n",
      "weighted avg      0.820     0.817     0.816       786\n",
      "\n"
     ]
    }
   ],
   "source": [
    "print(classification_report(y_test, y_test_pred, digits=3))"
   ]
  },
  {
   "cell_type": "code",
   "execution_count": null,
   "id": "equipped-portsmouth",
   "metadata": {},
   "outputs": [],
   "source": []
  }
 ],
 "metadata": {
  "kernelspec": {
   "display_name": "Python 3",
   "language": "python",
   "name": "python3"
  },
  "language_info": {
   "codemirror_mode": {
    "name": "ipython",
    "version": 3
   },
   "file_extension": ".py",
   "mimetype": "text/x-python",
   "name": "python",
   "nbconvert_exporter": "python",
   "pygments_lexer": "ipython3",
   "version": "3.8.5"
  }
 },
 "nbformat": 4,
 "nbformat_minor": 5
}
